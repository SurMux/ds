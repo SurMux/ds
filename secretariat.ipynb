{
 "cells": [
  {
   "cell_type": "code",
   "execution_count": 18,
   "metadata": {},
   "outputs": [],
   "source": [
    "# Aufgabe: Secretariat"
   ]
  },
  {
   "cell_type": "code",
   "execution_count": 19,
   "metadata": {},
   "outputs": [
    {
     "data": {
      "text/html": [
       "<div>\n",
       "<style scoped>\n",
       "    .dataframe tbody tr th:only-of-type {\n",
       "        vertical-align: middle;\n",
       "    }\n",
       "\n",
       "    .dataframe tbody tr th {\n",
       "        vertical-align: top;\n",
       "    }\n",
       "\n",
       "    .dataframe thead th {\n",
       "        text-align: right;\n",
       "    }\n",
       "</style>\n",
       "<table border=\"1\" class=\"dataframe\">\n",
       "  <thead>\n",
       "    <tr style=\"text-align: right;\">\n",
       "      <th></th>\n",
       "      <th>Year</th>\n",
       "      <th>Winner</th>\n",
       "      <th>Jockey</th>\n",
       "      <th>Trainer</th>\n",
       "      <th>Owner</th>\n",
       "      <th>Time</th>\n",
       "      <th>Miliseconds</th>\n",
       "      <th>Track</th>\n",
       "      <th>miles</th>\n",
       "      <th>Unnamed: 9</th>\n",
       "    </tr>\n",
       "  </thead>\n",
       "  <tbody>\n",
       "    <tr>\n",
       "      <th>0</th>\n",
       "      <td>2016</td>\n",
       "      <td>Creator</td>\n",
       "      <td>Irad Ortiz, Jr</td>\n",
       "      <td>Steve Asmussen</td>\n",
       "      <td>WinStar Farm LLC</td>\n",
       "      <td>2:28.51</td>\n",
       "      <td>148.51</td>\n",
       "      <td>Belmont</td>\n",
       "      <td>01. Mai</td>\n",
       "      <td>28.0</td>\n",
       "    </tr>\n",
       "    <tr>\n",
       "      <th>1</th>\n",
       "      <td>2015</td>\n",
       "      <td>American Pharoah</td>\n",
       "      <td>Victor Espinoza</td>\n",
       "      <td>Bob Baffert</td>\n",
       "      <td>Zayat Stables, LLC</td>\n",
       "      <td>2:26.65</td>\n",
       "      <td>146.65</td>\n",
       "      <td>Belmont</td>\n",
       "      <td>01. Mai</td>\n",
       "      <td>NaN</td>\n",
       "    </tr>\n",
       "    <tr>\n",
       "      <th>2</th>\n",
       "      <td>2014</td>\n",
       "      <td>Tonalist</td>\n",
       "      <td>Joel Rosario</td>\n",
       "      <td>Christophe Clement</td>\n",
       "      <td>Robert S. Evans</td>\n",
       "      <td>2:28.52</td>\n",
       "      <td>148.52</td>\n",
       "      <td>Belmont</td>\n",
       "      <td>01. Mai</td>\n",
       "      <td>NaN</td>\n",
       "    </tr>\n",
       "    <tr>\n",
       "      <th>3</th>\n",
       "      <td>2013</td>\n",
       "      <td>Palace Malice</td>\n",
       "      <td>Mike Smith</td>\n",
       "      <td>Todd Pletcher</td>\n",
       "      <td>Dogwood Stable</td>\n",
       "      <td>2:30.70</td>\n",
       "      <td>150.70</td>\n",
       "      <td>Belmont</td>\n",
       "      <td>01. Mai</td>\n",
       "      <td>NaN</td>\n",
       "    </tr>\n",
       "    <tr>\n",
       "      <th>4</th>\n",
       "      <td>2012</td>\n",
       "      <td>Union Rags</td>\n",
       "      <td>John Velazquez</td>\n",
       "      <td>Michael Matz</td>\n",
       "      <td>Phyllis M. Wyeth</td>\n",
       "      <td>2:30.42</td>\n",
       "      <td>150.42</td>\n",
       "      <td>Belmont</td>\n",
       "      <td>01. Mai</td>\n",
       "      <td>NaN</td>\n",
       "    </tr>\n",
       "    <tr>\n",
       "      <th>...</th>\n",
       "      <td>...</td>\n",
       "      <td>...</td>\n",
       "      <td>...</td>\n",
       "      <td>...</td>\n",
       "      <td>...</td>\n",
       "      <td>...</td>\n",
       "      <td>...</td>\n",
       "      <td>...</td>\n",
       "      <td>...</td>\n",
       "      <td>...</td>\n",
       "    </tr>\n",
       "    <tr>\n",
       "      <th>86</th>\n",
       "      <td>1930</td>\n",
       "      <td>Gallant Fox</td>\n",
       "      <td>Earl Sande</td>\n",
       "      <td>Jim Fitzsimmons</td>\n",
       "      <td>Belair Stud</td>\n",
       "      <td>2:31.60</td>\n",
       "      <td>151.60</td>\n",
       "      <td>Belmont</td>\n",
       "      <td>01. Mai</td>\n",
       "      <td>NaN</td>\n",
       "    </tr>\n",
       "    <tr>\n",
       "      <th>87</th>\n",
       "      <td>1929</td>\n",
       "      <td>Blue Larkspur</td>\n",
       "      <td>Mack Garner</td>\n",
       "      <td>Herbert J. Thompson</td>\n",
       "      <td>Edward R. Bradley</td>\n",
       "      <td>2:32.80</td>\n",
       "      <td>152.80</td>\n",
       "      <td>Belmont</td>\n",
       "      <td>01. Mai</td>\n",
       "      <td>NaN</td>\n",
       "    </tr>\n",
       "    <tr>\n",
       "      <th>88</th>\n",
       "      <td>1928</td>\n",
       "      <td>Vito</td>\n",
       "      <td>Clarence Kummer</td>\n",
       "      <td>Max Hirsch</td>\n",
       "      <td>Alfred H. Cosden</td>\n",
       "      <td>2:33.20</td>\n",
       "      <td>153.20</td>\n",
       "      <td>Belmont</td>\n",
       "      <td>01. Mai</td>\n",
       "      <td>NaN</td>\n",
       "    </tr>\n",
       "    <tr>\n",
       "      <th>89</th>\n",
       "      <td>1927</td>\n",
       "      <td>Chance Shot</td>\n",
       "      <td>Earl Sande</td>\n",
       "      <td>Pete Coyne</td>\n",
       "      <td>Joseph E. Widener</td>\n",
       "      <td>2:32.40</td>\n",
       "      <td>152.40</td>\n",
       "      <td>Belmont</td>\n",
       "      <td>01. Mai</td>\n",
       "      <td>NaN</td>\n",
       "    </tr>\n",
       "    <tr>\n",
       "      <th>90</th>\n",
       "      <td>1926</td>\n",
       "      <td>Crusader</td>\n",
       "      <td>Albert Johnson</td>\n",
       "      <td>George Conway</td>\n",
       "      <td>Glen Riddle Farm</td>\n",
       "      <td>2:32.20</td>\n",
       "      <td>152.20</td>\n",
       "      <td>Belmont</td>\n",
       "      <td>01. Mai</td>\n",
       "      <td>NaN</td>\n",
       "    </tr>\n",
       "  </tbody>\n",
       "</table>\n",
       "<p>91 rows × 10 columns</p>\n",
       "</div>"
      ],
      "text/plain": [
       "    Year            Winner           Jockey              Trainer  \\\n",
       "0   2016           Creator   Irad Ortiz, Jr       Steve Asmussen   \n",
       "1   2015  American Pharoah  Victor Espinoza          Bob Baffert   \n",
       "2   2014          Tonalist     Joel Rosario   Christophe Clement   \n",
       "3   2013     Palace Malice       Mike Smith        Todd Pletcher   \n",
       "4   2012        Union Rags   John Velazquez         Michael Matz   \n",
       "..   ...               ...              ...                  ...   \n",
       "86  1930       Gallant Fox       Earl Sande      Jim Fitzsimmons   \n",
       "87  1929     Blue Larkspur      Mack Garner  Herbert J. Thompson   \n",
       "88  1928              Vito  Clarence Kummer           Max Hirsch   \n",
       "89  1927       Chance Shot       Earl Sande           Pete Coyne   \n",
       "90  1926          Crusader   Albert Johnson        George Conway   \n",
       "\n",
       "                 Owner     Time  Miliseconds    Track    miles  Unnamed: 9  \n",
       "0     WinStar Farm LLC  2:28.51       148.51  Belmont  01. Mai        28.0  \n",
       "1   Zayat Stables, LLC  2:26.65       146.65  Belmont  01. Mai         NaN  \n",
       "2      Robert S. Evans  2:28.52       148.52  Belmont  01. Mai         NaN  \n",
       "3       Dogwood Stable  2:30.70       150.70  Belmont  01. Mai         NaN  \n",
       "4     Phyllis M. Wyeth  2:30.42       150.42  Belmont  01. Mai         NaN  \n",
       "..                 ...      ...          ...      ...      ...         ...  \n",
       "86         Belair Stud  2:31.60       151.60  Belmont  01. Mai         NaN  \n",
       "87   Edward R. Bradley  2:32.80       152.80  Belmont  01. Mai         NaN  \n",
       "88    Alfred H. Cosden  2:33.20       153.20  Belmont  01. Mai         NaN  \n",
       "89   Joseph E. Widener  2:32.40       152.40  Belmont  01. Mai         NaN  \n",
       "90    Glen Riddle Farm  2:32.20       152.20  Belmont  01. Mai         NaN  \n",
       "\n",
       "[91 rows x 10 columns]"
      ]
     },
     "execution_count": 19,
     "metadata": {},
     "output_type": "execute_result"
    }
   ],
   "source": [
    "import pandas as pd\n",
    "import matplotlib.pyplot as plt\n",
    "import seaborn as sns\n",
    "# import sklearn.datasets\n",
    "import numpy as np\n",
    "import sys\n",
    "from scipy.stats import norm\n",
    "import scipy.stats as stats\n",
    "import pylab as pl\n",
    "\n",
    "np.set_printoptions(threshold=sys.maxsize)\n",
    "\n",
    "# Import CSV\n",
    "belmont = pd.read_csv(\"belmont.csv\", sep = ';', decimal= \",\")\n",
    "\n",
    "# CSV Ausgabe\n",
    "belmont"
   ]
  },
  {
   "cell_type": "code",
   "execution_count": 20,
   "metadata": {},
   "outputs": [
    {
     "data": {
      "text/html": [
       "<div>\n",
       "<style scoped>\n",
       "    .dataframe tbody tr th:only-of-type {\n",
       "        vertical-align: middle;\n",
       "    }\n",
       "\n",
       "    .dataframe tbody tr th {\n",
       "        vertical-align: top;\n",
       "    }\n",
       "\n",
       "    .dataframe thead th {\n",
       "        text-align: right;\n",
       "    }\n",
       "</style>\n",
       "<table border=\"1\" class=\"dataframe\">\n",
       "  <thead>\n",
       "    <tr style=\"text-align: right;\">\n",
       "      <th></th>\n",
       "      <th>Year</th>\n",
       "      <th>Winner</th>\n",
       "      <th>Jockey</th>\n",
       "      <th>Trainer</th>\n",
       "      <th>Owner</th>\n",
       "      <th>Time</th>\n",
       "      <th>Miliseconds</th>\n",
       "      <th>Track</th>\n",
       "      <th>miles</th>\n",
       "      <th>Unnamed: 9</th>\n",
       "      <th>Minutes</th>\n",
       "    </tr>\n",
       "  </thead>\n",
       "  <tbody>\n",
       "    <tr>\n",
       "      <th>0</th>\n",
       "      <td>2016</td>\n",
       "      <td>Creator</td>\n",
       "      <td>Irad Ortiz, Jr</td>\n",
       "      <td>Steve Asmussen</td>\n",
       "      <td>WinStar Farm LLC</td>\n",
       "      <td>2:28.51</td>\n",
       "      <td>148510.0</td>\n",
       "      <td>Belmont</td>\n",
       "      <td>01. Mai</td>\n",
       "      <td>28.0</td>\n",
       "      <td>148.51</td>\n",
       "    </tr>\n",
       "    <tr>\n",
       "      <th>1</th>\n",
       "      <td>2015</td>\n",
       "      <td>American Pharoah</td>\n",
       "      <td>Victor Espinoza</td>\n",
       "      <td>Bob Baffert</td>\n",
       "      <td>Zayat Stables, LLC</td>\n",
       "      <td>2:26.65</td>\n",
       "      <td>146650.0</td>\n",
       "      <td>Belmont</td>\n",
       "      <td>01. Mai</td>\n",
       "      <td>NaN</td>\n",
       "      <td>146.65</td>\n",
       "    </tr>\n",
       "    <tr>\n",
       "      <th>2</th>\n",
       "      <td>2014</td>\n",
       "      <td>Tonalist</td>\n",
       "      <td>Joel Rosario</td>\n",
       "      <td>Christophe Clement</td>\n",
       "      <td>Robert S. Evans</td>\n",
       "      <td>2:28.52</td>\n",
       "      <td>148520.0</td>\n",
       "      <td>Belmont</td>\n",
       "      <td>01. Mai</td>\n",
       "      <td>NaN</td>\n",
       "      <td>148.52</td>\n",
       "    </tr>\n",
       "    <tr>\n",
       "      <th>3</th>\n",
       "      <td>2013</td>\n",
       "      <td>Palace Malice</td>\n",
       "      <td>Mike Smith</td>\n",
       "      <td>Todd Pletcher</td>\n",
       "      <td>Dogwood Stable</td>\n",
       "      <td>2:30.70</td>\n",
       "      <td>150700.0</td>\n",
       "      <td>Belmont</td>\n",
       "      <td>01. Mai</td>\n",
       "      <td>NaN</td>\n",
       "      <td>150.70</td>\n",
       "    </tr>\n",
       "    <tr>\n",
       "      <th>4</th>\n",
       "      <td>2012</td>\n",
       "      <td>Union Rags</td>\n",
       "      <td>John Velazquez</td>\n",
       "      <td>Michael Matz</td>\n",
       "      <td>Phyllis M. Wyeth</td>\n",
       "      <td>2:30.42</td>\n",
       "      <td>150420.0</td>\n",
       "      <td>Belmont</td>\n",
       "      <td>01. Mai</td>\n",
       "      <td>NaN</td>\n",
       "      <td>150.42</td>\n",
       "    </tr>\n",
       "    <tr>\n",
       "      <th>...</th>\n",
       "      <td>...</td>\n",
       "      <td>...</td>\n",
       "      <td>...</td>\n",
       "      <td>...</td>\n",
       "      <td>...</td>\n",
       "      <td>...</td>\n",
       "      <td>...</td>\n",
       "      <td>...</td>\n",
       "      <td>...</td>\n",
       "      <td>...</td>\n",
       "      <td>...</td>\n",
       "    </tr>\n",
       "    <tr>\n",
       "      <th>86</th>\n",
       "      <td>1930</td>\n",
       "      <td>Gallant Fox</td>\n",
       "      <td>Earl Sande</td>\n",
       "      <td>Jim Fitzsimmons</td>\n",
       "      <td>Belair Stud</td>\n",
       "      <td>2:31.60</td>\n",
       "      <td>151600.0</td>\n",
       "      <td>Belmont</td>\n",
       "      <td>01. Mai</td>\n",
       "      <td>NaN</td>\n",
       "      <td>151.60</td>\n",
       "    </tr>\n",
       "    <tr>\n",
       "      <th>87</th>\n",
       "      <td>1929</td>\n",
       "      <td>Blue Larkspur</td>\n",
       "      <td>Mack Garner</td>\n",
       "      <td>Herbert J. Thompson</td>\n",
       "      <td>Edward R. Bradley</td>\n",
       "      <td>2:32.80</td>\n",
       "      <td>152800.0</td>\n",
       "      <td>Belmont</td>\n",
       "      <td>01. Mai</td>\n",
       "      <td>NaN</td>\n",
       "      <td>152.80</td>\n",
       "    </tr>\n",
       "    <tr>\n",
       "      <th>88</th>\n",
       "      <td>1928</td>\n",
       "      <td>Vito</td>\n",
       "      <td>Clarence Kummer</td>\n",
       "      <td>Max Hirsch</td>\n",
       "      <td>Alfred H. Cosden</td>\n",
       "      <td>2:33.20</td>\n",
       "      <td>153200.0</td>\n",
       "      <td>Belmont</td>\n",
       "      <td>01. Mai</td>\n",
       "      <td>NaN</td>\n",
       "      <td>153.20</td>\n",
       "    </tr>\n",
       "    <tr>\n",
       "      <th>89</th>\n",
       "      <td>1927</td>\n",
       "      <td>Chance Shot</td>\n",
       "      <td>Earl Sande</td>\n",
       "      <td>Pete Coyne</td>\n",
       "      <td>Joseph E. Widener</td>\n",
       "      <td>2:32.40</td>\n",
       "      <td>152400.0</td>\n",
       "      <td>Belmont</td>\n",
       "      <td>01. Mai</td>\n",
       "      <td>NaN</td>\n",
       "      <td>152.40</td>\n",
       "    </tr>\n",
       "    <tr>\n",
       "      <th>90</th>\n",
       "      <td>1926</td>\n",
       "      <td>Crusader</td>\n",
       "      <td>Albert Johnson</td>\n",
       "      <td>George Conway</td>\n",
       "      <td>Glen Riddle Farm</td>\n",
       "      <td>2:32.20</td>\n",
       "      <td>152200.0</td>\n",
       "      <td>Belmont</td>\n",
       "      <td>01. Mai</td>\n",
       "      <td>NaN</td>\n",
       "      <td>152.20</td>\n",
       "    </tr>\n",
       "  </tbody>\n",
       "</table>\n",
       "<p>91 rows × 11 columns</p>\n",
       "</div>"
      ],
      "text/plain": [
       "    Year            Winner           Jockey              Trainer  \\\n",
       "0   2016           Creator   Irad Ortiz, Jr       Steve Asmussen   \n",
       "1   2015  American Pharoah  Victor Espinoza          Bob Baffert   \n",
       "2   2014          Tonalist     Joel Rosario   Christophe Clement   \n",
       "3   2013     Palace Malice       Mike Smith        Todd Pletcher   \n",
       "4   2012        Union Rags   John Velazquez         Michael Matz   \n",
       "..   ...               ...              ...                  ...   \n",
       "86  1930       Gallant Fox       Earl Sande      Jim Fitzsimmons   \n",
       "87  1929     Blue Larkspur      Mack Garner  Herbert J. Thompson   \n",
       "88  1928              Vito  Clarence Kummer           Max Hirsch   \n",
       "89  1927       Chance Shot       Earl Sande           Pete Coyne   \n",
       "90  1926          Crusader   Albert Johnson        George Conway   \n",
       "\n",
       "                 Owner     Time  Miliseconds    Track    miles  Unnamed: 9  \\\n",
       "0     WinStar Farm LLC  2:28.51     148510.0  Belmont  01. Mai        28.0   \n",
       "1   Zayat Stables, LLC  2:26.65     146650.0  Belmont  01. Mai         NaN   \n",
       "2      Robert S. Evans  2:28.52     148520.0  Belmont  01. Mai         NaN   \n",
       "3       Dogwood Stable  2:30.70     150700.0  Belmont  01. Mai         NaN   \n",
       "4     Phyllis M. Wyeth  2:30.42     150420.0  Belmont  01. Mai         NaN   \n",
       "..                 ...      ...          ...      ...      ...         ...   \n",
       "86         Belair Stud  2:31.60     151600.0  Belmont  01. Mai         NaN   \n",
       "87   Edward R. Bradley  2:32.80     152800.0  Belmont  01. Mai         NaN   \n",
       "88    Alfred H. Cosden  2:33.20     153200.0  Belmont  01. Mai         NaN   \n",
       "89   Joseph E. Widener  2:32.40     152400.0  Belmont  01. Mai         NaN   \n",
       "90    Glen Riddle Farm  2:32.20     152200.0  Belmont  01. Mai         NaN   \n",
       "\n",
       "    Minutes  \n",
       "0    148.51  \n",
       "1    146.65  \n",
       "2    148.52  \n",
       "3    150.70  \n",
       "4    150.42  \n",
       "..      ...  \n",
       "86   151.60  \n",
       "87   152.80  \n",
       "88   153.20  \n",
       "89   152.40  \n",
       "90   152.20  \n",
       "\n",
       "[91 rows x 11 columns]"
      ]
     },
     "execution_count": 20,
     "metadata": {},
     "output_type": "execute_result"
    }
   ],
   "source": [
    "#ECDF function\n",
    "def ecdf(data):\n",
    "    # number of data points: n\n",
    "    n = len(data)\n",
    "    # x-data for the ECDF: x\n",
    "    x=np.sort(data)\n",
    "    # y-data for the ECDF: y\n",
    "    y=np.arange(1, n+1)/n\n",
    "    return x,y\n",
    "    \n",
    "# Task: create a function to convert time to milliseconds\n",
    "\n",
    "belmont[\"Minutes\"] = belmont.Miliseconds.astype(float)\n",
    "belmont['Miliseconds'] = belmont['Miliseconds'].astype(float) * 1000\n",
    "\n",
    "belmont\n"
   ]
  },
  {
   "cell_type": "code",
   "execution_count": 21,
   "metadata": {},
   "outputs": [
    {
     "data": {
      "text/plain": [
       "'2:34.00'"
      ]
     },
     "execution_count": 21,
     "metadata": {},
     "output_type": "execute_result"
    }
   ],
   "source": [
    "# use delimeters, try to check if all data are available\n",
    "outlier_time_column = belmont[\"Time\"]\n",
    "outlier_time = outlier_time_column.max()\n",
    "outlier_time"
   ]
  },
  {
   "cell_type": "code",
   "execution_count": 22,
   "metadata": {},
   "outputs": [
    {
     "data": {
      "text/plain": [
       "0     148.51\n",
       "1     146.65\n",
       "2     148.52\n",
       "3     150.70\n",
       "4     150.42\n",
       "       ...  \n",
       "86    151.60\n",
       "87    152.80\n",
       "88    153.20\n",
       "89    152.40\n",
       "90    152.20\n",
       "Name: Minutes, Length: 91, dtype: float64"
      ]
     },
     "execution_count": 22,
     "metadata": {},
     "output_type": "execute_result"
    }
   ],
   "source": [
    "# find max value in the column\n",
    "outlier_max_column = belmont[\"Time\"]\n",
    "outlier_max = outlier_max_column.max()\n",
    "outlier_max\n",
    "\n",
    "Year = belmont[\"Year\"]\n",
    "\n",
    "Time = belmont[\"Minutes\"]\n",
    "Time"
   ]
  },
  {
   "cell_type": "code",
   "execution_count": 23,
   "metadata": {},
   "outputs": [
    {
     "data": {
      "image/png": "[encoded data removed]",
      "text/plain": [
       "<Figure size 432x288 with 1 Axes>"
      ]
     },
     "metadata": {
      "needs_background": "light"
     },
     "output_type": "display_data"
    }
   ],
   "source": [
    "_ = plt.plot(Time, Year, '.')\n",
    "_ = plt.xlabel('belmont time in min')\n",
    "_ = plt.ylabel('Year')"
   ]
  },
  {
   "cell_type": "code",
   "execution_count": 24,
   "metadata": {},
   "outputs": [
    {
     "name": "stdout",
     "output_type": "stream",
     "text": [
      "mean 149.21615384615387\n",
      "standard deviation 1.7643501242516313\n",
      "Outliers_min 144.0\n",
      "Outliers_max 154.0\n"
     ]
    }
   ],
   "source": [
    "mu_mean = np.mean(Time)\n",
    "sigma_std = np.std(Time)\n",
    "print('mean', mu_mean)\n",
    "print('standard deviation', sigma_std)\n",
    "\n",
    "# calculate Z-scores to find outliers\n",
    "#Task: calc outliers using another methods see reccomandations\n",
    "\n",
    "Z_scores = (Time - mu_mean)/sigma_std\n",
    "\n",
    "Outliers_min = Z_scores.min()\n",
    "\n",
    "# 1973 and 1970 years should be deleted from analysis\n",
    "\n",
    "Outliers_max = Z_scores.max()\n",
    "print('Outliers_min',Outliers_min*sigma_std + mu_mean)\n",
    "print('Outliers_max', Outliers_max*sigma_std + mu_mean)"
   ]
  },
  {
   "cell_type": "code",
   "execution_count": 30,
   "metadata": {},
   "outputs": [
    {
     "data": {
      "image/png": "[encoded data removed]",
      "text/plain": [
       "<Figure size 432x288 with 1 Axes>"
      ]
     },
     "metadata": {
      "needs_background": "light"
     },
     "output_type": "display_data"
    }
   ],
   "source": [
    "# sorted\n",
    "h_1 = sorted(Z_scores)\n",
    "\n",
    "# this is a fitting indeed\n",
    "fit = stats.norm.pdf(h_1, np.mean(h_1), np.std(h_1))\n",
    "\n",
    "pl.plot(h_1,fit,'-o')\n",
    "\n",
    "# use this to draw histogram of your data\n",
    "pl.hist(h_1,density=True)\n",
    "              \n",
    "# Make a legend, set limits and show plot\n",
    "_ = plt.xlabel('Z Scores')\n",
    "_ = plt.ylabel('PDF')\n",
    "plt.ylim(-0.01, 0.42)\n",
    "plt.show()"
   ]
  },
  {
   "cell_type": "code",
   "execution_count": 26,
   "metadata": {},
   "outputs": [
    {
     "data": {
      "text/plain": [
       "(array([0.01098901, 0.        , 0.08791209, 0.0989011 , 0.26373626,\n",
       "        0.25274725, 0.14285714, 0.04395604, 0.07692308, 0.02197802]),\n",
       " array([144., 145., 146., 147., 148., 149., 150., 151., 152., 153., 154.]),\n",
       " <BarContainer object of 10 artists>)"
      ]
     },
     "execution_count": 26,
     "metadata": {},
     "output_type": "execute_result"
    },
    {
     "data": {
      "image/png": "[encoded data removed]",
      "text/plain": [
       "<Figure size 432x288 with 1 Axes>"
      ]
     },
     "metadata": {
      "needs_background": "light"
     },
     "output_type": "display_data"
    }
   ],
   "source": [
    "#Task 1: convert to array and print the whole array, combine two columns Time and Z-scores and Years and print as a table\n",
    "#Task 2: delete outliers from the Time and print\n",
    "\n",
    "#print(Time,Z_scores)\n",
    "\n",
    "#  a normal distribution with outliers\n",
    "h = sorted(Time)  #sorted\n",
    "\n",
    "fit = stats.norm.pdf(h, np.mean(h), np.std(h))  #this is a fitting indeed\n",
    "\n",
    "pl.plot(h,fit,'-o')\n",
    "\n",
    "pl.hist(h,density=True)      #use this to draw histogram of your data"
   ]
  },
  {
   "cell_type": "code",
   "execution_count": 27,
   "metadata": {},
   "outputs": [
    {
     "data": {
      "image/png": "[encoded data removed]",
      "text/plain": [
       "<Figure size 432x288 with 1 Axes>"
      ]
     },
     "metadata": {
      "needs_background": "light"
     },
     "output_type": "display_data"
    },
    {
     "name": "stdout",
     "output_type": "stream",
     "text": [
      "meand, std: 149.22101123595507 1.6186456017743405\n"
     ]
    },
    {
     "data": {
      "text/plain": [
       "(array([0.09363296, 0.09363296, 0.10923845, 0.32771536, 0.20287141,\n",
       "        0.26529338, 0.12484395, 0.04681648, 0.06242197, 0.06242197]),\n",
       " array([146.  , 146.72, 147.44, 148.16, 148.88, 149.6 , 150.32, 151.04,\n",
       "        151.76, 152.48, 153.2 ]),\n",
       " <BarContainer object of 10 artists>)"
      ]
     },
     "execution_count": 27,
     "metadata": {},
     "output_type": "execute_result"
    },
    {
     "data": {
      "image/png": "[encoded data removed]",
      "text/plain": [
       "<Figure size 432x288 with 1 Axes>"
      ]
     },
     "metadata": {
      "needs_background": "light"
     },
     "output_type": "display_data"
    }
   ],
   "source": [
    "# Make a legend, set limits and show plot\n",
    "_ = plt.xlabel('Time')\n",
    "_ = plt.ylabel('PDF')\n",
    "plt.ylim(-0.01, 0.42)\n",
    "plt.show()\n",
    "\n",
    "#a normal distribution without outliers\n",
    "\n",
    "Time_without = [148.51, 146.65, 148.52, 150.7 , 150.42, 150.88, 151.57, 147.54,\n",
    "       149.65, 148.74, 147.86, 148.75, 147.5, 148.26, 149.71, 146.56,\n",
    "       151.19, 147.88, 149.16, 148.82, 148.96, 152.02, 146.82, 149.97,\n",
    "       146.13, 148.1 , 147.2 , 146, 146.4, 148.2 , 149.8 , 147,\n",
    "       147.2 , 147.8 , 148.2 , 149.  , 149.8 , 148.6 , 146.8 , 149.6 ,\n",
    "       149.  , 148.2 , 149.2 , 148.  , 150.4 , 148.8 , 147.2 , 148.8 ,\n",
    "       149.6 , 148.4 , 148.4 , 150.2 , 148.8 , 149.2 , 149.2 , 148.4 ,\n",
    "       150.2 , 146.6 , 149.8 , 149.  , 150.8 , 148.6 , 150.2 , 149.  ,\n",
    "       148.6 , 150.2 , 148.2 , 149.4 , 150.8 , 150.2 , 152.2 , 148.2 ,\n",
    "       149.2 , 151.  , 149.6 , 149.6 , 149.4 , 148.6 , 150.  , 150.6 ,\n",
    "       149.2 , 152.6 , 152.8 , 149.6 , 151.6 , 152.8 , 153.2 , 152.4 ,\n",
    "       152.2 ]\n",
    "type(Time_without)\n",
    "# Compute mean and standard deviation: mu, sigma\n",
    "mu = np.mean(Time_without)\n",
    "sigma = np.std(Time_without)\n",
    "\n",
    "print('meand, std:', mu, sigma)\n",
    "\n",
    "h = sorted(Time_without)  #sorted\n",
    "\n",
    "fit = stats.norm.pdf(h, np.mean(h), np.std(h))  #this is a fitting indeed\n",
    "\n",
    "pl.plot(h,fit,'-o')\n",
    "\n",
    "pl.hist(h,density=True)      #use this to draw histogram of your data"
   ]
  },
  {
   "cell_type": "code",
   "execution_count": 28,
   "metadata": {},
   "outputs": [
    {
     "data": {
      "image/png": "[encoded data removed]",
      "text/plain": [
       "<Figure size 432x288 with 1 Axes>"
      ]
     },
     "metadata": {
      "needs_background": "light"
     },
     "output_type": "display_data"
    },
    {
     "data": {
      "image/png": "[encoded data removed]",
      "text/plain": [
       "<Figure size 432x288 with 1 Axes>"
      ]
     },
     "metadata": {
      "needs_background": "light"
     },
     "output_type": "display_data"
    }
   ],
   "source": [
    "# Make a legend, set limits and show plot\n",
    "_ = plt.xlabel('Time without outliers')\n",
    "_ = plt.ylabel('PDF')\n",
    "plt.ylim(-0.01, 0.42)\n",
    "plt.show()\n",
    "\n",
    "# Sample out of a normal distribution with this mu and sigma: samples\n",
    "samples = np.random.normal(mu, sigma, size=10000)\n",
    "\n",
    "# Get the CDF of the samples and of the data\n",
    "x_theor, y_theor = ecdf(samples)\n",
    "x, y = ecdf(Time_without)\n",
    "\n",
    "# Plot the CDFs and show the plot\n",
    "_ = plt.plot(x_theor, y_theor)\n",
    "_ = plt.plot(x, y, marker='.', linestyle='none')\n",
    "_ = plt.xlabel('Belmont winning time (sec.)')\n",
    "_ = plt.ylabel('CDF')\n",
    "plt.show()"
   ]
  },
  {
   "cell_type": "code",
   "execution_count": 29,
   "metadata": {},
   "outputs": [
    {
     "name": "stdout",
     "output_type": "stream",
     "text": [
      "Probability of besting Secretariat: 0.000643\n"
     ]
    }
   ],
   "source": [
    "# to find out if it is possible to hit Secretariats record\n",
    "# Take a million samples out of the Normal distribution: samples\n",
    "samples = np.random.normal(mu, sigma, size=1000000)\n",
    "\n",
    "# Compute the fraction that are faster than 144 seconds: prob\n",
    "prob = np.sum(samples <= 144) / len(samples)\n",
    "\n",
    "# Print the result\n",
    "print('Probability of besting Secretariat:', prob)"
   ]
  }
 ],
 "metadata": {
  "interpreter": {
   "hash": "6a7b1ba5b82e6dfe0afdfa1c8a546b8852432573fa0213e21ac840c0d387daa7"
  },
  "kernelspec": {
   "display_name": "Python 3.10.0 64-bit",
   "language": "python",
   "name": "python3"
  },
  "language_info": {
   "codemirror_mode": {
    "name": "ipython",
    "version": 3
   },
   "file_extension": ".py",
   "mimetype": "text/x-python",
   "name": "python",
   "nbconvert_exporter": "python",
   "pygments_lexer": "ipython3",
   "version": "3.10.0"
  },
  "orig_nbformat": 4
 },
 "nbformat": 4,
 "nbformat_minor": 2
}
